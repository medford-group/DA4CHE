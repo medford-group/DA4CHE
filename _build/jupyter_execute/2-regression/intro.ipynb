{
 "cells": [
  {
   "cell_type": "markdown",
   "id": "8a1c8655",
   "metadata": {},
   "source": [
    "```{contents}\n",
    ":local:\n",
    ":depth: 3\n",
    "```\n",
    "\n",
    "# Regression\n",
    "\n",
    "This module provides a basic machine-learning perspective on regression, covering non-parameteric models, complexity optimization, cross-validation, and regression with high-dimensional data."
   ]
  }
 ],
 "metadata": {
  "jupytext": {
   "text_representation": {
    "extension": ".md",
    "format_name": "myst"
   }
  },
  "kernelspec": {
   "display_name": "Python 3",
   "language": "python",
   "name": "python3"
  },
  "source_map": [
   10
  ]
 },
 "nbformat": 4,
 "nbformat_minor": 5
}