{
 "cells": [
  {
   "cell_type": "markdown",
   "id": "c0ef057d",
   "metadata": {},
   "source": [
    "```{contents}\n",
    ":local:\n",
    ":depth: 3\n",
    "```\n",
    "\n",
    "# Numerical Methods\n",
    "\n",
    "This module covers basics of Python and key numerical methods, including an introduction to basic regression."
   ]
  }
 ],
 "metadata": {
  "jupytext": {
   "text_representation": {
    "extension": ".md",
    "format_name": "myst"
   }
  },
  "kernelspec": {
   "display_name": "Python 3",
   "language": "python",
   "name": "python3"
  },
  "source_map": [
   10
  ]
 },
 "nbformat": 4,
 "nbformat_minor": 5
}