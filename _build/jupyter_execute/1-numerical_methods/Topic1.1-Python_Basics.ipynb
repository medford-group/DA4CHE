{
 "cells": [
  {
   "cell_type": "markdown",
   "id": "26b398e0",
   "metadata": {},
   "source": [
    "```{contents}\n",
    ":local:\n",
    ":depth: 2\n",
    "```\n",
    "\n",
    "# Python Basics\n",
    "\n",
    "This lecture introduces the core features of Python that will be used throughout the course. While not all students may have prior experience with Python, the materials are designed to be approachable and practical, emphasizing key workflows for data analytics in chemical engineering.\n",
    "\n",
    "## Learning Objectives\n",
    "\n",
    "By the end of this section, you should be able to:\n",
    "\n",
    "- Compare Python to other scientific programming environments (MATLAB, R, Julia)\n",
    "- Use Python packages and import structures appropriately\n",
    "- Write basic functions, loops, and use object methods and attributes\n",
    "- Read and visualize data using pandas and matplotlib\n",
    "- Set up and manage coding environments using tools like conda, Jupyter, and Git\n",
    "- Identify and resolve common Python pitfalls and type-related bugs\n",
    "\n",
    "## Python Overview\n",
    "\n",
    "### Why Python?\n",
    "\n",
    "- Python is commonly used for data analysis and scientific computing\n",
    "- Python is a full-featured programming language\n",
    "- Python has an extensive ecosystem of user-contributed tools\n",
    "- Python has a low barrier to entry and a gentle learning curve (especially compared to compiled languages)\n",
    "- Python is growing rapidly in popularity and community support\n",
    "\n",
    "Python is often compared to other tools commonly used in scientific computing and data analysis. Below are some brief comparisons.\n",
    "\n",
    "### Python vs. MATLAB\n",
    "\n",
    "**Advantages of Python**:\n",
    "1. **Flexibility and portability**: Python is a general-purpose language and can be used across domains (web, automation, analysis).\n",
    "2. **Free and open source**: Python is freely available and has a permissive license. MATLAB requires a license and is proprietary.\n",
    "3. **Large community and resources**: Python has a huge user base, extensive documentation, and many tutorials.\n",
    "\n",
    "**Disadvantages of Python**:\n",
    "1. **Speed and efficiency**: MATLAB is optimized for matrix operations and can be faster for small to medium-size numerical problems.\n",
    "2. **Installation and configuration**: Managing Python environments can be tricky (e.g., package dependencies, versioning).\n",
    "3. **Lack of integrated IDE**: Python does not come with a default IDE like MATLAB (though tools like Spyder, VS Code, and Jupyter help).\n",
    "\n",
    "### Python vs. Compiled Languages (C++, Fortran)\n",
    "\n",
    "**Advantages of Python**:\n",
    "1. **Rapid development**: Python allows faster prototyping and shorter code.\n",
    "2. **Ease of use**: Code is typically easier to write and understand.\n",
    "3. **High-level abstractions**: Useful for scripting, data analysis, and visualization.\n",
    "\n",
    "**Disadvantages of Python**:\n",
    "1. **Performance**: Python is generally slower than compiled languages due to its interpreted nature.\n",
    "2. **Less control**: Compiled languages allow finer control over memory and performance-critical details.\n",
    "\n",
    "### Python vs. R\n",
    "\n",
    "**Advantages of Python**:\n",
    "1. **General-purpose capabilities**: Python is more flexible for tasks beyond statistics (e.g., web scraping, automation, machine learning).\n",
    "2. **Integration**: Better tools for integrating with other languages and platforms.\n",
    "3. **Scalability**: Python often scales better for large data applications and production systems.\n",
    "\n",
    "**Disadvantages of Python**:\n",
    "1. **Statistical modeling**: R has more specialized libraries for certain statistical models and exploratory data analysis.\n",
    "2. **Plotting defaults**: R’s base plotting and `ggplot2` often produce more publication-ready visuals with less effort.\n",
    "\n",
    "### Python vs. Julia\n",
    "\n",
    "**Advantages of Python**:\n",
    "\n",
    "Although Python will be used in course notes and homeworks, students are welcome to use other languages for final projects if they are better suited to the task.\n",
    "1. **Mature ecosystem**: Python has a much broader ecosystem of packages and tools.\n",
    "2. **Stability and support**: Python has a long history and wide adoption in industry and academia.\n",
    "\n",
    "**Disadvantages of Python**:\n",
    "1. **Performance**: Julia often outperforms Python for numerical code due to its just-in-time (JIT) compilation.\n",
    "2. **Simplicity for scientific code**: Julia syntax can resemble MATLAB or NumPy, with better performance out-of-the-box.\n",
    "\n",
    "```{note}\n",
    "Python is the default language for the course notes and homeworks in this course. However, for your course project you may choose other programming languages based on the nature of the problem. If you choose to work with another language, ensure that everyone on your team is comfortable with it (or find a way to delegate work so that you can use multiple languages).\n",
    "\n",
    "Course instructors will only be able to provide support for Python, although there is a support team from MathWorks that can also provide advice on MATLAB. If you are interested in using MATLAB for your project, please let instructors know so that we can connect you with the MathWorks team.\n",
    "```\n",
    "\n",
    "\n",
    "### Python \"packages\"\n",
    "\n",
    "Unlike MATLAB, Python is organized into \"packages\" (or \"modules\") that group related functionality. Some packages are part of the [standard library](https://docs.python.org/3/library/) and are available in any Python installation. Others are third-party add-ons that must be installed separately.\n",
    "\n",
    "Here’s how to import and use functions from the `math` package:"
   ]
  },
  {
   "cell_type": "code",
   "execution_count": 1,
   "id": "dc5b6018",
   "metadata": {},
   "outputs": [
    {
     "name": "stdout",
     "output_type": "stream",
     "text": [
      "2.718281828459045\n"
     ]
    }
   ],
   "source": [
    "import math\n",
    "\n",
    "print(math.exp(1))"
   ]
  },
  {
   "cell_type": "markdown",
   "id": "3cbbe969",
   "metadata": {},
   "source": [
    "Functions can also be imported directly, or with an alias:"
   ]
  },
  {
   "cell_type": "code",
   "execution_count": 2,
   "id": "fbe3c4aa",
   "metadata": {},
   "outputs": [
    {
     "name": "stdout",
     "output_type": "stream",
     "text": [
      "2.718281828459045\n",
      "2.718281828459045\n",
      "2.718281828459045\n"
     ]
    }
   ],
   "source": [
    "from math import exp\n",
    "import math as m\n",
    "\n",
    "print(m.exp(1))\n",
    "print(exp(1))\n",
    "print(m.e)"
   ]
  },
  {
   "cell_type": "markdown",
   "id": "cceada23",
   "metadata": {},
   "source": [
    "One of the most important non-standard packages is [`numpy`](https://numpy.org/), which provides numerical and linear algebra functions. It is commonly imported as `np`:"
   ]
  },
  {
   "cell_type": "code",
   "execution_count": 3,
   "id": "3f8220c1",
   "metadata": {},
   "outputs": [
    {
     "data": {
      "text/plain": [
       "array([[1, 2],\n",
       "       [3, 4]])"
      ]
     },
     "execution_count": 3,
     "metadata": {},
     "output_type": "execute_result"
    }
   ],
   "source": [
    "import numpy as np\n",
    "\n",
    "A = np.array([[1,2],[3,4]])\n",
    "A"
   ]
  },
  {
   "cell_type": "markdown",
   "id": "12df8496",
   "metadata": {},
   "source": [
    "In NumPy, all arrays (1D, 2D, etc.) are represented using a single type: the `ndarray`. One major difference from MATLAB is that **elementwise operations are the default** in NumPy:"
   ]
  },
  {
   "cell_type": "code",
   "execution_count": 4,
   "id": "a3f0f3fa",
   "metadata": {},
   "outputs": [
    {
     "data": {
      "text/plain": [
       "array([[2, 4],\n",
       "       [6, 8]])"
      ]
     },
     "execution_count": 4,
     "metadata": {},
     "output_type": "execute_result"
    }
   ],
   "source": [
    "B = np.array([[2,2],[2,2]])\n",
    "\n",
    "A * B  # elementwise multiplication"
   ]
  },
  {
   "cell_type": "markdown",
   "id": "10e6d845",
   "metadata": {},
   "source": [
    "Matrix multiplication can be performed using `np.dot()` or the `@` operator:"
   ]
  },
  {
   "cell_type": "code",
   "execution_count": 5,
   "id": "4f174588",
   "metadata": {},
   "outputs": [
    {
     "data": {
      "text/plain": [
       "array([[ 6,  6],\n",
       "       [14, 14]])"
      ]
     },
     "execution_count": 5,
     "metadata": {},
     "output_type": "execute_result"
    }
   ],
   "source": [
    "C = np.dot(A, B)\n",
    "C"
   ]
  },
  {
   "cell_type": "code",
   "execution_count": 6,
   "id": "5cdb63fd",
   "metadata": {},
   "outputs": [
    {
     "data": {
      "text/plain": [
       "array([[ 6,  6],\n",
       "       [14, 14]])"
      ]
     },
     "execution_count": 6,
     "metadata": {},
     "output_type": "execute_result"
    }
   ],
   "source": [
    "D = A @ B\n",
    "D"
   ]
  },
  {
   "cell_type": "markdown",
   "id": "bd1f7e3a",
   "metadata": {},
   "source": [
    "Indexing arrays in NumPy is similar to MATLAB with **three key differences**:\n",
    "\n",
    "- Square brackets `[]` are used instead of parentheses\n",
    "- Indexing starts from **0** instead of 1\n",
    "- Negative indexes count from the end (e.g. `-1` means last element)"
   ]
  },
  {
   "cell_type": "code",
   "execution_count": 7,
   "id": "d2d564d0",
   "metadata": {},
   "outputs": [
    {
     "name": "stdout",
     "output_type": "stream",
     "text": [
      "1\n",
      "[1. 2. 3.]\n"
     ]
    }
   ],
   "source": [
    "print(A[0,0])\n",
    "X = np.array([[1., 2., 3.], [4., 5., 6.]])\n",
    "print(X[-2])"
   ]
  },
  {
   "cell_type": "markdown",
   "id": "a4742a38",
   "metadata": {},
   "source": [
    "You can take \"slices\" of arrays using the colon syntax:\n",
    "\n",
    "```python\n",
    "start:end      # slice from index 'start' to 'end-1'\n",
    "start:end:step # optional 'step' size\n",
    "```\n",
    "\n",
    "Example:"
   ]
  },
  {
   "cell_type": "code",
   "execution_count": 8,
   "id": "8fc382e4",
   "metadata": {},
   "outputs": [
    {
     "name": "stdout",
     "output_type": "stream",
     "text": [
      "A matrix reshaped:\n",
      " [[1]\n",
      " [2]\n",
      " [3]\n",
      " [4]]\n"
     ]
    },
    {
     "data": {
      "text/plain": [
       "array([1, 3])"
      ]
     },
     "execution_count": 8,
     "metadata": {},
     "output_type": "execute_result"
    }
   ],
   "source": [
    "a_col = A[:,0]              # first column\n",
    "a_col_2 = a_col.reshape(-1, 1)  # make column vector\n",
    "a_col_2.shape\n",
    "A_2 = A.reshape(4,1)\n",
    "print(\"A matrix reshaped:\\n\", A_2)\n",
    "a_col"
   ]
  },
  {
   "cell_type": "markdown",
   "id": "7c8074ac",
   "metadata": {},
   "source": [
    "There is a helpful [MATLAB-to-Numpy cheat sheet](https://docs.scipy.org/doc/numpy/user/numpy-for-matlab-users.html) that compares syntax and behavior across the two languages.\n",
    "\n",
    "```{note}\n",
    "While Python’s package system provides **enormous flexibility**, it can also lead to compatibility issues. Different packages may depend on different versions of Python or each other, which can result in version conflicts and installation bugs. Tools like `conda`, `venv`, or `pipenv` are often used to isolate environments and manage dependencies. `conda` is the recommended environment manager for this course, but it is not required.\n",
    "```\n",
    "\n",
    "```{admonition} Exercise\n",
    ":class: tip\n",
    "\n",
    "Try the following:\n",
    "\n",
    "1. Import the `math` package and use it to print the natural log of 10.\n",
    "2. Import `numpy` and create a 2×2 matrix.\n",
    "3. Multiply the matrix by itself using both `*` and `@` — observe the difference.\n",
    "\n",
    "What do these results tell you about NumPy's default behavior?\n",
    "```\n",
    "\n",
    "## For loops and Functions\n",
    "\n",
    "Python syntax is designed to be readable and intuitive. Unlike many other languages, Python uses **indentation** to define blocks of code rather than braces or keywords. Below are a few foundational elements that will be used throughout this course.\n",
    "\n",
    "### For loops\n",
    "\n",
    "Python `for` loops are simple and flexible. A common pattern is to iterate over elements in a list or array. The `range()` function is often used to loop over indices:"
   ]
  },
  {
   "cell_type": "code",
   "execution_count": 9,
   "id": "2b0e8e73",
   "metadata": {},
   "outputs": [
    {
     "name": "stdout",
     "output_type": "stream",
     "text": [
      "i = 0\n",
      "i = 1\n",
      "i = 2\n",
      "i = 3\n",
      "i = 4\n"
     ]
    }
   ],
   "source": [
    "for i in range(5):\n",
    "    print(\"i =\", i)"
   ]
  },
  {
   "cell_type": "markdown",
   "id": "01318116",
   "metadata": {},
   "source": [
    "You can also iterate directly over list contents:"
   ]
  },
  {
   "cell_type": "code",
   "execution_count": 10,
   "id": "05ee3352",
   "metadata": {},
   "outputs": [
    {
     "name": "stdout",
     "output_type": "stream",
     "text": [
      "item = A\n",
      "item = B\n",
      "item = C\n"
     ]
    }
   ],
   "source": [
    "mylist = ['A', 'B', 'C']\n",
    "\n",
    "for item in mylist:\n",
    "    print(\"item =\", item)"
   ]
  },
  {
   "cell_type": "markdown",
   "id": "b0822140",
   "metadata": {},
   "source": [
    "Python does not use an index variable unless you explicitly define it. If you need both the index and the value, the `enumerate()` function is useful:"
   ]
  },
  {
   "cell_type": "code",
   "execution_count": 11,
   "id": "b53b7692",
   "metadata": {},
   "outputs": [
    {
     "name": "stdout",
     "output_type": "stream",
     "text": [
      "Index 0 contains A\n",
      "Index 1 contains B\n",
      "Index 2 contains C\n"
     ]
    }
   ],
   "source": [
    "for i, item in enumerate(mylist):\n",
    "    print(f\"Index {i} contains {item}\")"
   ]
  },
  {
   "cell_type": "markdown",
   "id": "503f39c0",
   "metadata": {},
   "source": [
    "---\n",
    "\n",
    "### Defining Functions\n",
    "\n",
    "Functions in Python are defined using the `def` keyword. They can take **positional arguments** (required, in order) and **keyword arguments** (optional, with defaults). Python is more flexible than MATLAB in how arguments are handled."
   ]
  },
  {
   "cell_type": "code",
   "execution_count": 12,
   "id": "88e7755c",
   "metadata": {},
   "outputs": [
    {
     "name": "stdout",
     "output_type": "stream",
     "text": [
      "0.8824969025845955\n",
      "0.8824969025845955\n",
      "0.8824969025845955\n",
      "0.8824969025845955\n"
     ]
    }
   ],
   "source": [
    "from math import exp  # required for use in the function\n",
    "\n",
    "def gaussian(x, mean=0, stdev=1.0):\n",
    "    g = exp(-(x - mean)**2 / (2 * stdev**2))\n",
    "    return g\n",
    "\n",
    "print(gaussian(0.5))\n",
    "print(gaussian(0.5, 0))\n",
    "print(gaussian(0.5, stdev=1, mean=0))\n",
    "print(gaussian(0.5, 0, 1))"
   ]
  },
  {
   "cell_type": "markdown",
   "id": "fe4985e6",
   "metadata": {},
   "source": [
    "Keyword arguments allow inputs to be given in any order, as long as they are named explicitly.\n",
    "\n",
    "---\n",
    "\n",
    "### Return values\n",
    "\n",
    "Functions return values using the `return` keyword. If no value is returned, Python implicitly returns `None`."
   ]
  },
  {
   "cell_type": "code",
   "execution_count": 13,
   "id": "3503d81a",
   "metadata": {},
   "outputs": [
    {
     "name": "stdout",
     "output_type": "stream",
     "text": [
      "5\n",
      "Returned value: None\n"
     ]
    }
   ],
   "source": [
    "def null_function():\n",
    "    x = 5\n",
    "    y = x**2\n",
    "    z = exp(-y)\n",
    "    print(x)\n",
    "    # no return statement\n",
    "\n",
    "new_var = null_function()\n",
    "print(\"Returned value:\", new_var)"
   ]
  },
  {
   "cell_type": "markdown",
   "id": "0753ecdb",
   "metadata": {},
   "source": [
    "This can be contrasted with a version that explicitly returns a value:"
   ]
  },
  {
   "cell_type": "code",
   "execution_count": 14,
   "id": "cf306199",
   "metadata": {},
   "outputs": [
    {
     "name": "stdout",
     "output_type": "stream",
     "text": [
      "Returned value: 5\n"
     ]
    }
   ],
   "source": [
    "def return_function():\n",
    "    x = 5\n",
    "    y = x**2\n",
    "    z = exp(-y)\n",
    "    return x\n",
    "\n",
    "new_val = return_function()\n",
    "print(\"Returned value:\", new_val)"
   ]
  },
  {
   "cell_type": "markdown",
   "id": "c514a108",
   "metadata": {},
   "source": [
    "```{note}\n",
    "In general, if you want a function to produce a result that can be stored or passed to other code, you must use `return`.\n",
    "\n",
    "You will not have to write many functions from scratch in this course, but you will often need to **modify existing code**. Understanding function structure will save time and improve clarity in your work.\n",
    "```\n",
    "\n",
    "```{admonition} Exercise\n",
    ":class: tip\n",
    "\n",
    "Write a function called `arrhenius` that computes the rate constant \\( k \\) using the Arrhenius equation:\n",
    "\n",
    "$$\n",
    "k = A \\cdot \\exp\\left(\\frac{-E_a}{RT}\\right)\n",
    "$$\n",
    "\n",
    "The function should:\n",
    "\n",
    "- Take one **positional argument**: `T` (temperature in Kelvin)\n",
    "- Take two **keyword arguments**:\n",
    "  - `A` (pre-exponential factor, default = \\(1 \\times 10^{13}\\))\n",
    "  - `Ea` (activation energy in J/mol, default = 75000)\n",
    "\n",
    "Use \\( R = 8.314 \\, \\text{J/mol·K} \\) in your function.\n",
    "\n",
    "Test your function at multiple temperatures (e.g., 300 K, 500 K, 700 K) and print the corresponding rate constants.\n",
    "\n",
    "No plotting is required.\n",
    "```\n",
    "\n",
    "## Classes, attributes, and methods\n",
    "\n",
    "Another significant difference between MATLAB and Python is that Python is a highly **object-oriented** language. This means that most variables in Python are actually *objects*, which are instances of a particular *class*. Each class has associated **attributes** (data) and **methods** (functions that act on the object).\n",
    "\n",
    "Even simple variables like lists or arrays have associated methods and attributes. You can inspect these using the `dir()` function:"
   ]
  },
  {
   "cell_type": "code",
   "execution_count": 15,
   "id": "5a4e3d69",
   "metadata": {},
   "outputs": [
    {
     "data": {
      "text/plain": [
       "['T',\n",
       " '__abs__',\n",
       " '__add__',\n",
       " '__and__',\n",
       " '__array__',\n",
       " '__array_finalize__',\n",
       " '__array_function__',\n",
       " '__array_interface__',\n",
       " '__array_namespace__',\n",
       " '__array_priority__',\n",
       " '__array_struct__',\n",
       " '__array_ufunc__',\n",
       " '__array_wrap__',\n",
       " '__bool__',\n",
       " '__class__',\n",
       " '__class_getitem__',\n",
       " '__complex__',\n",
       " '__contains__',\n",
       " '__copy__',\n",
       " '__deepcopy__',\n",
       " '__delattr__',\n",
       " '__delitem__',\n",
       " '__dir__',\n",
       " '__divmod__',\n",
       " '__dlpack__',\n",
       " '__dlpack_device__',\n",
       " '__doc__',\n",
       " '__eq__',\n",
       " '__float__',\n",
       " '__floordiv__',\n",
       " '__format__',\n",
       " '__ge__',\n",
       " '__getattribute__',\n",
       " '__getitem__',\n",
       " '__gt__',\n",
       " '__hash__',\n",
       " '__iadd__',\n",
       " '__iand__',\n",
       " '__ifloordiv__',\n",
       " '__ilshift__',\n",
       " '__imatmul__',\n",
       " '__imod__',\n",
       " '__imul__',\n",
       " '__index__',\n",
       " '__init__',\n",
       " '__init_subclass__',\n",
       " '__int__',\n",
       " '__invert__',\n",
       " '__ior__',\n",
       " '__ipow__',\n",
       " '__irshift__',\n",
       " '__isub__',\n",
       " '__iter__',\n",
       " '__itruediv__',\n",
       " '__ixor__',\n",
       " '__le__',\n",
       " '__len__',\n",
       " '__lshift__',\n",
       " '__lt__',\n",
       " '__matmul__',\n",
       " '__mod__',\n",
       " '__mul__',\n",
       " '__ne__',\n",
       " '__neg__',\n",
       " '__new__',\n",
       " '__or__',\n",
       " '__pos__',\n",
       " '__pow__',\n",
       " '__radd__',\n",
       " '__rand__',\n",
       " '__rdivmod__',\n",
       " '__reduce__',\n",
       " '__reduce_ex__',\n",
       " '__repr__',\n",
       " '__rfloordiv__',\n",
       " '__rlshift__',\n",
       " '__rmatmul__',\n",
       " '__rmod__',\n",
       " '__rmul__',\n",
       " '__ror__',\n",
       " '__rpow__',\n",
       " '__rrshift__',\n",
       " '__rshift__',\n",
       " '__rsub__',\n",
       " '__rtruediv__',\n",
       " '__rxor__',\n",
       " '__setattr__',\n",
       " '__setitem__',\n",
       " '__setstate__',\n",
       " '__sizeof__',\n",
       " '__str__',\n",
       " '__sub__',\n",
       " '__subclasshook__',\n",
       " '__truediv__',\n",
       " '__xor__',\n",
       " 'all',\n",
       " 'any',\n",
       " 'argmax',\n",
       " 'argmin',\n",
       " 'argpartition',\n",
       " 'argsort',\n",
       " 'astype',\n",
       " 'base',\n",
       " 'byteswap',\n",
       " 'choose',\n",
       " 'clip',\n",
       " 'compress',\n",
       " 'conj',\n",
       " 'conjugate',\n",
       " 'copy',\n",
       " 'ctypes',\n",
       " 'cumprod',\n",
       " 'cumsum',\n",
       " 'data',\n",
       " 'device',\n",
       " 'diagonal',\n",
       " 'dot',\n",
       " 'dtype',\n",
       " 'dump',\n",
       " 'dumps',\n",
       " 'fill',\n",
       " 'flags',\n",
       " 'flat',\n",
       " 'flatten',\n",
       " 'getfield',\n",
       " 'imag',\n",
       " 'item',\n",
       " 'itemset',\n",
       " 'itemsize',\n",
       " 'mT',\n",
       " 'max',\n",
       " 'mean',\n",
       " 'min',\n",
       " 'nbytes',\n",
       " 'ndim',\n",
       " 'newbyteorder',\n",
       " 'nonzero',\n",
       " 'partition',\n",
       " 'prod',\n",
       " 'ptp',\n",
       " 'put',\n",
       " 'ravel',\n",
       " 'real',\n",
       " 'repeat',\n",
       " 'reshape',\n",
       " 'resize',\n",
       " 'round',\n",
       " 'searchsorted',\n",
       " 'setfield',\n",
       " 'setflags',\n",
       " 'shape',\n",
       " 'size',\n",
       " 'sort',\n",
       " 'squeeze',\n",
       " 'std',\n",
       " 'strides',\n",
       " 'sum',\n",
       " 'swapaxes',\n",
       " 'take',\n",
       " 'to_device',\n",
       " 'tobytes',\n",
       " 'tofile',\n",
       " 'tolist',\n",
       " 'tostring',\n",
       " 'trace',\n",
       " 'transpose',\n",
       " 'var',\n",
       " 'view']"
      ]
     },
     "execution_count": 15,
     "metadata": {},
     "output_type": "execute_result"
    }
   ],
   "source": [
    "import numpy as np\n",
    "\n",
    "A = np.array([[1, 2], [3, 4]])\n",
    "dir(A)"
   ]
  },
  {
   "cell_type": "markdown",
   "id": "24e157a8",
   "metadata": {},
   "source": [
    "The items that begin and end with double underscores (`__`) are called [\"magic methods\" or \"dunder methods\"](https://www.geeksforgeeks.org/python/dunder-magic-methods-python/) (short for double underscore). These are used internally by Python and should generally be avoided unless you know what you're doing.\n",
    "\n",
    "---\n",
    "\n",
    "### Attributes vs. methods\n",
    "\n",
    "- An **attribute** is a variable stored inside the object (e.g., `.shape` or `.dtype`).\n",
    "- A **method** is a function associated with the object (e.g., `.mean()` or `.reshape()`).\n",
    "\n",
    "You do **not** use parentheses for attributes:"
   ]
  },
  {
   "cell_type": "code",
   "execution_count": 16,
   "id": "ed4bdeed",
   "metadata": {},
   "outputs": [
    {
     "data": {
      "text/plain": [
       "(2, 2)"
      ]
     },
     "execution_count": 16,
     "metadata": {},
     "output_type": "execute_result"
    }
   ],
   "source": [
    "A.shape"
   ]
  },
  {
   "cell_type": "markdown",
   "id": "11de8bb8",
   "metadata": {},
   "source": [
    "You **do** use parentheses to call methods:"
   ]
  },
  {
   "cell_type": "code",
   "execution_count": 17,
   "id": "da755b3f",
   "metadata": {},
   "outputs": [
    {
     "name": "stdout",
     "output_type": "stream",
     "text": [
      "2.5\n",
      "1.118033988749895\n"
     ]
    }
   ],
   "source": [
    "print(A.mean())\n",
    "print(A.std())"
   ]
  },
  {
   "cell_type": "markdown",
   "id": "90348e7c",
   "metadata": {},
   "source": [
    "Python often provides both a method and a standalone function for the same operation:"
   ]
  },
  {
   "cell_type": "code",
   "execution_count": 18,
   "id": "5e2c30e7",
   "metadata": {},
   "outputs": [
    {
     "data": {
      "text/plain": [
       "numpy.ndarray"
      ]
     },
     "execution_count": 18,
     "metadata": {},
     "output_type": "execute_result"
    }
   ],
   "source": [
    "np.mean(A)\n",
    "type(A)"
   ]
  },
  {
   "cell_type": "markdown",
   "id": "4847c5fd",
   "metadata": {},
   "source": [
    "---\n",
    "\n",
    "### A note on list objects\n",
    "\n",
    "In contrast to NumPy arrays, Python lists do not support matrix multiplication. Attempting to use the `@` operator (or `np.dot`) on native lists will result in an error."
   ]
  },
  {
   "cell_type": "code",
   "execution_count": 19,
   "id": "a1721743",
   "metadata": {},
   "outputs": [
    {
     "name": "stdout",
     "output_type": "stream",
     "text": [
      "Matrix multiplication is not supported for lists:\n",
      "unsupported operand type(s) for @: 'list' and 'list'\n"
     ]
    }
   ],
   "source": [
    "L = [[0, 1],[2, 3]]\n",
    "\n",
    "try:\n",
    "    result = L @ L\n",
    "except TypeError as e:\n",
    "    print(\"Matrix multiplication is not supported for lists:\")\n",
    "    print(e)"
   ]
  },
  {
   "cell_type": "markdown",
   "id": "e26b72b9",
   "metadata": {},
   "source": [
    "```{note}\n",
    "Python's `try/except` syntax lets you gracefully handle errors. We will explain this structure in more detail later in the course.\n",
    "```\n",
    "\n",
    "This is one reason NumPy arrays are preferred for numerical work.\n",
    "\n",
    "---\n",
    "\n",
    "### Using help and documentation\n",
    "\n",
    "You can use the built-in `help()` function to learn more about any object, method, or function. This is very useful for exploring libraries and unfamiliar syntax:"
   ]
  },
  {
   "cell_type": "code",
   "execution_count": 20,
   "id": "b88426a9",
   "metadata": {},
   "outputs": [
    {
     "name": "stdout",
     "output_type": "stream",
     "text": [
      "Help on built-in function mean:\n",
      "\n",
      "mean(...) method of numpy.ndarray instance\n",
      "    a.mean(axis=None, dtype=None, out=None, keepdims=False, *, where=True)\n",
      "    \n",
      "    Returns the average of the array elements along given axis.\n",
      "    \n",
      "    Refer to `numpy.mean` for full documentation.\n",
      "    \n",
      "    See Also\n",
      "    --------\n",
      "    numpy.mean : equivalent function\n",
      "\n"
     ]
    }
   ],
   "source": [
    "help(A.mean)"
   ]
  },
  {
   "cell_type": "markdown",
   "id": "87be3f46",
   "metadata": {},
   "source": [
    "You can also access method-specific options using keyword arguments:"
   ]
  },
  {
   "cell_type": "code",
   "execution_count": 21,
   "id": "1c12d76d",
   "metadata": {},
   "outputs": [
    {
     "data": {
      "text/plain": [
       "array([1.5, 3.5])"
      ]
     },
     "execution_count": 21,
     "metadata": {},
     "output_type": "execute_result"
    }
   ],
   "source": [
    "A.mean(axis=1)"
   ]
  },
  {
   "cell_type": "markdown",
   "id": "1dbff4b5",
   "metadata": {},
   "source": [
    "This computes the row-wise average of matrix `A`.\n",
    "\n",
    "---\n",
    "\n",
    "```{admonition} Exercise\n",
    ":class: tip\n",
    "\n",
    "Inspect and use object attributes and methods:\n",
    "\n",
    "1. Create a NumPy array `B = np.array([[3, 1, 4], [1, 5, 9]])`\n",
    "2. Use `dir(B)` to find all available methods.\n",
    "3. Use `type(B)` to verify its class.\n",
    "4. Use `help(B.sum)` to learn about the `.sum()` method.\n",
    "5. Call `B.sum(axis=0)` and `B.sum(axis=1)` to compute column-wise and row-wise totals.\n",
    "\n",
    "Try comparing this to equivalent operations in MATLAB or by using plain Python lists.\n",
    "```\n",
    "\n",
    "## Reading and Visualizing Data\n",
    "\n",
    "Python has powerful tools for reading, transforming, and visualizing data. This section introduces two core packages:\n",
    "\n",
    "- `pandas`, used for reading and organizing data\n",
    "- `matplotlib`, used for plotting\n",
    "\n",
    "We’ll use a sample dataset called `ethanol_IR.csv`, which contains infrared absorbance data.\n",
    "\n",
    "---\n",
    "\n",
    "### Reading in data\n",
    "\n",
    "The `pandas` package is particularly useful for this. It has many helpful features that we will discuss throughout the course, but for now we will just show how to read in a .csv file and convert it into a numpy array.\n",
    "\n",
    "In the example below, we read a dataset from a file named `\"ethanol_IR.csv\"`, which contains infrared absorbance measurements for ethanol. The resulting object `df` is a **DataFrame**, which behaves like a table (similar to a spreadsheet)."
   ]
  },
  {
   "cell_type": "code",
   "execution_count": 22,
   "id": "38ce36b4",
   "metadata": {},
   "outputs": [
    {
     "data": {
      "text/html": [
       "<div>\n",
       "<style scoped>\n",
       "    .dataframe tbody tr th:only-of-type {\n",
       "        vertical-align: middle;\n",
       "    }\n",
       "\n",
       "    .dataframe tbody tr th {\n",
       "        vertical-align: top;\n",
       "    }\n",
       "\n",
       "    .dataframe thead th {\n",
       "        text-align: right;\n",
       "    }\n",
       "</style>\n",
       "<table border=\"1\" class=\"dataframe\">\n",
       "  <thead>\n",
       "    <tr style=\"text-align: right;\">\n",
       "      <th></th>\n",
       "      <th>wavenumber [cm^-1]</th>\n",
       "      <th>absorbance</th>\n",
       "    </tr>\n",
       "  </thead>\n",
       "  <tbody>\n",
       "    <tr>\n",
       "      <th>0</th>\n",
       "      <td>461.563000</td>\n",
       "      <td>0.015</td>\n",
       "    </tr>\n",
       "    <tr>\n",
       "      <th>1</th>\n",
       "      <td>466.250502</td>\n",
       "      <td>0.014</td>\n",
       "    </tr>\n",
       "    <tr>\n",
       "      <th>2</th>\n",
       "      <td>470.938003</td>\n",
       "      <td>0.014</td>\n",
       "    </tr>\n",
       "    <tr>\n",
       "      <th>3</th>\n",
       "      <td>475.625505</td>\n",
       "      <td>0.014</td>\n",
       "    </tr>\n",
       "    <tr>\n",
       "      <th>4</th>\n",
       "      <td>480.313007</td>\n",
       "      <td>0.013</td>\n",
       "    </tr>\n",
       "    <tr>\n",
       "      <th>5</th>\n",
       "      <td>485.000509</td>\n",
       "      <td>0.012</td>\n",
       "    </tr>\n",
       "    <tr>\n",
       "      <th>6</th>\n",
       "      <td>489.688010</td>\n",
       "      <td>0.012</td>\n",
       "    </tr>\n",
       "    <tr>\n",
       "      <th>7</th>\n",
       "      <td>494.375512</td>\n",
       "      <td>0.012</td>\n",
       "    </tr>\n",
       "    <tr>\n",
       "      <th>8</th>\n",
       "      <td>499.063014</td>\n",
       "      <td>0.012</td>\n",
       "    </tr>\n",
       "    <tr>\n",
       "      <th>9</th>\n",
       "      <td>503.750516</td>\n",
       "      <td>0.013</td>\n",
       "    </tr>\n",
       "  </tbody>\n",
       "</table>\n",
       "</div>"
      ],
      "text/plain": [
       "   wavenumber [cm^-1]  absorbance\n",
       "0          461.563000       0.015\n",
       "1          466.250502       0.014\n",
       "2          470.938003       0.014\n",
       "3          475.625505       0.014\n",
       "4          480.313007       0.013\n",
       "5          485.000509       0.012\n",
       "6          489.688010       0.012\n",
       "7          494.375512       0.012\n",
       "8          499.063014       0.012\n",
       "9          503.750516       0.013"
      ]
     },
     "execution_count": 22,
     "metadata": {},
     "output_type": "execute_result"
    }
   ],
   "source": [
    "import pandas as pd\n",
    "\n",
    "# Read in the ethanol infrared spectroscopy dataset (CSV format)\n",
    "df = pd.read_csv(\"data/ethanol_IR.csv\")\n",
    "\n",
    "# Display the first 10 rows of the dataset to understand its structure\n",
    "df.head(10)"
   ]
  },
  {
   "cell_type": "code",
   "execution_count": 23,
   "id": "b67b1471",
   "metadata": {},
   "outputs": [
    {
     "data": {
      "text/plain": [
       "(714, 2)"
      ]
     },
     "execution_count": 23,
     "metadata": {},
     "output_type": "execute_result"
    }
   ],
   "source": [
    "X = df.values\n",
    "X.shape"
   ]
  },
  {
   "cell_type": "markdown",
   "id": "61ce4b26",
   "metadata": {},
   "source": [
    "The `.values` attribute converts the DataFrame into a NumPy array. This is useful because many scientific computing tools (like `numpy` and `scikit-learn`) expect data in this format."
   ]
  },
  {
   "cell_type": "code",
   "execution_count": 24,
   "id": "0e1878a1",
   "metadata": {},
   "outputs": [
    {
     "data": {
      "text/plain": [
       "array([ 0.015,  0.014,  0.014,  0.014,  0.013,  0.012,  0.012,  0.012,\n",
       "        0.012,  0.013,  0.013,  0.013,  0.014,  0.014,  0.014,  0.014,\n",
       "        0.013,  0.013,  0.013,  0.013,  0.012,  0.011,  0.008,  0.008,\n",
       "        0.007,  0.005,  0.005,  0.004,  0.003,  0.003,  0.003,  0.002,\n",
       "        0.001,  0.001,  0.   ,  0.   , -0.001, -0.002, -0.002, -0.003,\n",
       "       -0.003, -0.003, -0.003, -0.003, -0.004, -0.003,  0.002, -0.002,\n",
       "       -0.003, -0.003, -0.003, -0.005, -0.006, -0.006, -0.006, -0.006,\n",
       "       -0.009, -0.006, -0.005, -0.003, -0.003, -0.003, -0.003, -0.002,\n",
       "       -0.002, -0.002, -0.001,  0.   ,  0.002,  0.003,  0.005,  0.005,\n",
       "        0.006,  0.007,  0.007,  0.007,  0.007,  0.006,  0.006,  0.007,\n",
       "        0.008,  0.008,  0.011,  0.019,  0.032,  0.055,  0.077,  0.097,\n",
       "        0.099,  0.09 ,  0.128,  0.099,  0.131,  0.114,  0.103,  0.087,\n",
       "        0.054,  0.034,  0.021,  0.013,  0.008,  0.007,  0.005,  0.003,\n",
       "        0.003,  0.003,  0.004,  0.005,  0.007,  0.011,  0.016,  0.021,\n",
       "        0.032,  0.047,  0.066,  0.095,  0.138,  0.176,  0.238,  0.271,\n",
       "        0.292,  0.458,  0.426,  0.562,  0.648,  0.712,  0.738,  0.759,\n",
       "        0.686,  0.848,  0.686,  0.726,  0.66 ,  0.553,  0.469,  0.308,\n",
       "        0.277,  0.248,  0.212,  0.151,  0.114,  0.076,  0.058,  0.045,\n",
       "        0.036,  0.032,  0.025,  0.021,  0.019,  0.018,  0.019,  0.02 ,\n",
       "        0.023,  0.029,  0.034,  0.036,  0.042,  0.048,  0.053,  0.067,\n",
       "        0.08 ,  0.11 ,  0.151,  0.174,  0.188,  0.177,  0.151,  0.19 ,\n",
       "        0.208,  0.197,  0.186,  0.154,  0.128,  0.097,  0.079,  0.065,\n",
       "        0.057,  0.052,  0.048,  0.046,  0.046,  0.046,  0.047,  0.048,\n",
       "        0.048,  0.05 ,  0.051,  0.056,  0.062,  0.07 ,  0.084,  0.108,\n",
       "        0.143,  0.174,  0.234,  0.279,  0.315,  0.313,  0.289,  0.347,\n",
       "        0.231,  0.275,  0.298,  0.253,  0.194,  0.139,  0.108,  0.094,\n",
       "        0.09 ,  0.088,  0.087,  0.107,  0.104,  0.069,  0.064,  0.06 ,\n",
       "        0.059,  0.058,  0.051,  0.045,  0.04 ,  0.034,  0.029,  0.026,\n",
       "        0.02 ,  0.017,  0.014,  0.011,  0.008,  0.007,  0.006,  0.005,\n",
       "        0.003,  0.003,  0.005,  0.003,  0.003,  0.003,  0.003,  0.004,\n",
       "        0.003,  0.004,  0.005,  0.004,  0.005,  0.005,  0.005,  0.005,\n",
       "        0.006,  0.005,  0.005,  0.005,  0.005,  0.005,  0.007,  0.007,\n",
       "        0.005,  0.005,  0.005,  0.005,  0.007,  0.007,  0.005,  0.005,\n",
       "        0.006,  0.006,  0.006,  0.007,  0.008,  0.007,  0.007,  0.007,\n",
       "        0.007,  0.007,  0.007,  0.007,  0.007,  0.007,  0.008,  0.008,\n",
       "        0.007,  0.005,  0.005,  0.005,  0.005,  0.005,  0.003,  0.003,\n",
       "        0.003,  0.003,  0.002,  0.001,  0.002,  0.002,  0.002,  0.002,\n",
       "        0.001,  0.001,  0.001,  0.002,  0.003,  0.003,  0.003,  0.004,\n",
       "        0.005,  0.005,  0.007,  0.007,  0.008,  0.01 ,  0.011,  0.012,\n",
       "        0.013,  0.013,  0.013,  0.012,  0.011,  0.009,  0.008,  0.006,\n",
       "        0.005,  0.004,  0.003,  0.003,  0.002,  0.001,  0.   ,  0.   ,\n",
       "        0.   ,  0.   ,  0.   ,  0.   ,  0.   ,  0.   ,  0.   ,  0.   ,\n",
       "        0.   ,  0.   , -0.001,  0.   ,  0.   ,  0.   ,  0.   ,  0.   ,\n",
       "        0.   ,  0.001,  0.001,  0.002,  0.003,  0.003,  0.004,  0.005,\n",
       "        0.005,  0.005,  0.007,  0.007,  0.007,  0.007,  0.006,  0.005,\n",
       "        0.004,  0.003,  0.003,  0.003,  0.003,  0.003,  0.003,  0.003,\n",
       "        0.003,  0.003,  0.002,  0.002,  0.001,  0.   ,  0.   ,  0.   ,\n",
       "        0.   ,  0.   ,  0.   ,  0.001,  0.001,  0.001,  0.002,  0.003,\n",
       "        0.004,  0.004,  0.005,  0.005,  0.004,  0.003,  0.003,  0.002,\n",
       "        0.001,  0.   ,  0.   ,  0.   ,  0.   ,  0.   ,  0.   ,  0.   ,\n",
       "        0.001,  0.002,  0.003,  0.002,  0.   ,  0.   ,  0.   ,  0.   ,\n",
       "        0.   ,  0.   ,  0.001,  0.001,  0.001,  0.001,  0.001,  0.002,\n",
       "        0.003,  0.003,  0.003,  0.003,  0.003,  0.003,  0.003,  0.002,\n",
       "        0.002,  0.002,  0.001,  0.001,  0.001,  0.001,  0.001,  0.001,\n",
       "        0.001,  0.001,  0.   ,  0.   ,  0.   ,  0.   ,  0.   ,  0.   ,\n",
       "        0.   ,  0.   ,  0.   ,  0.   ,  0.   ,  0.   ,  0.   ,  0.   ,\n",
       "        0.   ,  0.   ,  0.   ,  0.   ,  0.   ,  0.   ,  0.001,  0.001,\n",
       "        0.001,  0.001,  0.002,  0.003,  0.004,  0.004,  0.005,  0.005,\n",
       "        0.005,  0.006,  0.006,  0.007,  0.007,  0.007,  0.008,  0.008,\n",
       "        0.008,  0.009,  0.01 ,  0.01 ,  0.011,  0.011,  0.012,  0.013,\n",
       "        0.015,  0.017,  0.018,  0.02 ,  0.021,  0.024,  0.027,  0.029,\n",
       "        0.03 ,  0.031,  0.033,  0.034,  0.036,  0.037,  0.039,  0.04 ,\n",
       "        0.043,  0.047,  0.049,  0.052,  0.055,  0.058,  0.062,  0.066,\n",
       "        0.071,  0.077,  0.085,  0.097,  0.111,  0.141,  0.169,  0.183,\n",
       "        0.235,  0.265,  0.324,  0.35 ,  0.396,  0.421,  0.45 ,  0.467,\n",
       "        0.486,  0.514,  0.51 ,  0.464,  0.444,  0.437,  0.432,  0.432,\n",
       "        0.437,  0.442,  0.45 ,  0.475,  0.501,  0.541,  0.553,  0.594,\n",
       "        0.611,  0.611,  0.607,  0.612,  0.607,  0.521,  0.471,  0.424,\n",
       "        0.331,  0.264,  0.216,  0.161,  0.114,  0.094,  0.054,  0.034,\n",
       "        0.021,  0.014,  0.008,  0.007,  0.005,  0.004,  0.003,  0.003,\n",
       "        0.002,  0.002,  0.002,  0.001,  0.001,  0.001,  0.001,  0.   ,\n",
       "        0.   ,  0.   ,  0.   ,  0.   ,  0.   ,  0.   ,  0.   ,  0.   ,\n",
       "        0.   ,  0.   ,  0.   ,  0.   ,  0.   ,  0.001,  0.001,  0.001,\n",
       "        0.002,  0.003,  0.003,  0.003,  0.004,  0.004,  0.003,  0.003,\n",
       "        0.002,  0.001,  0.001,  0.   ,  0.   , -0.001, -0.001, -0.002,\n",
       "       -0.002, -0.002, -0.002, -0.002, -0.003, -0.003, -0.003, -0.003,\n",
       "       -0.003, -0.003, -0.003, -0.003, -0.003, -0.003, -0.003, -0.003,\n",
       "       -0.003, -0.002, -0.002, -0.002, -0.002, -0.002, -0.002, -0.002,\n",
       "       -0.001, -0.001,  0.   ,  0.   ,  0.   ,  0.   , -0.001, -0.001,\n",
       "       -0.002, -0.002, -0.002, -0.001,  0.   ,  0.   ,  0.   ,  0.   ,\n",
       "        0.001,  0.001,  0.   ,  0.   ,  0.   ,  0.   ,  0.   , -0.001,\n",
       "       -0.001, -0.001, -0.001, -0.002, -0.002, -0.002, -0.001, -0.001,\n",
       "        0.   ,  0.   ,  0.   ,  0.   ,  0.001,  0.002,  0.004,  0.004,\n",
       "        0.004,  0.004,  0.005,  0.005,  0.007,  0.008,  0.01 ,  0.012,\n",
       "        0.017,  0.023,  0.032,  0.042,  0.056,  0.072,  0.091,  0.117,\n",
       "        0.138,  0.14 ,  0.14 ,  0.158,  0.131,  0.124,  0.125,  0.114,\n",
       "        0.102,  0.061,  0.034,  0.021,  0.013,  0.007,  0.004,  0.001,\n",
       "        0.   ,  0.   ,  0.   ,  0.   ,  0.   ,  0.   ,  0.   ,  0.   ,\n",
       "        0.   ,  0.   ,  0.   ,  0.001,  0.001,  0.001,  0.001,  0.   ,\n",
       "        0.   ,  0.   ])"
      ]
     },
     "execution_count": 24,
     "metadata": {},
     "output_type": "execute_result"
    }
   ],
   "source": [
    "X[:,1]"
   ]
  },
  {
   "cell_type": "markdown",
   "id": "870bba3b",
   "metadata": {},
   "source": [
    "Once the data is in NumPy format, we can access columns using slicing. Here we select all rows from column 1, which corresponds to absorbance.\n",
    "\n",
    "\n",
    "\n",
    "### Reading from Excel files\n",
    "\n",
    "The `pandas` library can also read data from Excel files using the `read_excel()` function. This works similarly to `read_csv()`:"
   ]
  },
  {
   "cell_type": "code",
   "execution_count": 25,
   "id": "3a924bad",
   "metadata": {},
   "outputs": [
    {
     "name": "stdout",
     "output_type": "stream",
     "text": [
      "Excel file could not be read: [Errno 2] No such file or directory: 'data/ethanol_IR.xlsx'\n"
     ]
    }
   ],
   "source": [
    "try:\n",
    "    df_excel = pd.read_excel(\"data/ethanol_IR.xlsx\")\n",
    "    display(df_excel.head())\n",
    "except Exception as e:\n",
    "    print(\"Excel file could not be read:\", e)"
   ]
  },
  {
   "cell_type": "markdown",
   "id": "c6e328e4",
   "metadata": {},
   "source": [
    "```{note}\n",
    "Reading Excel files requires an additional dependency such as `openpyxl` or `xlrd`, and may not work if Microsoft Excel is not installed on your system. Use `.csv` files whenever possible for cross-platform compatibility.\n",
    "```\n",
    "\n",
    "\n",
    "---\n",
    "\n",
    "### Plotting data\n",
    "\n",
    "Plotting data in Python is also similar to Matlab, and the main library, `matplotlib` is designed to work similarly. It is rather powerful, but can also be clunky. In particular, plots cannot be easily edited after they are generated, so all modifications must be done using code. There is a [gallery of Matplotlib examples](https://matplotlib.org/gallery.html), along with associated source code, that can be very useful if you want to create fancier plots.\n",
    "\n",
    "Typically we will make very simple plots in this course. An example of the `ethanol_IR.csv` dataset is provided below:"
   ]
  },
  {
   "cell_type": "code",
   "execution_count": 26,
   "id": "732b3535",
   "metadata": {},
   "outputs": [],
   "source": [
    "%matplotlib inline\n",
    "import matplotlib.pyplot as plt  # standard and recommended import convention\n",
    "#import pylab as plt #equivalent import, but not recommended\n",
    "plt.style.use('../settings/plot_style.mplstyle')"
   ]
  },
  {
   "cell_type": "markdown",
   "id": "3a685eda",
   "metadata": {},
   "source": [
    "```{note}\n",
    "The `plot_style.mplstyle` file in the `settings` directory is used to ensure consistent appearance across all plots in the notebooks. You can ignore it or remove the line if you're working outside the course materials — it is optional.\n",
    "```"
   ]
  },
  {
   "cell_type": "code",
   "execution_count": 27,
   "id": "c0312153",
   "metadata": {},
   "outputs": [],
   "source": [
    "x = X[:,0] #take the first column as independent variable\n",
    "y = X[:,1] #take the second column as dependent variable"
   ]
  },
  {
   "cell_type": "code",
   "execution_count": 28,
   "id": "65faf485",
   "metadata": {},
   "outputs": [
    {
     "data": {
      "image/png": "[encoded data removed]",
      "text/plain": [
       "<Figure size 1500x750 with 1 Axes>"
      ]
     },
     "metadata": {},
     "output_type": "display_data"
    }
   ],
   "source": [
    "fig, ax = plt.subplots(figsize=(10, 5)) #create a new figure object (fig) with an associated axis object (ax)\n",
    "ax.plot(x,y,marker='o', ls='none') # marker='o' draws circles at each point; ls='none' omits connecting lines\n",
    "ax.set_xlabel('Wavenumber [cm$^{-1}$]')\n",
    "ax.set_ylabel('Absorbance [unitless]');"
   ]
  },
  {
   "cell_type": "markdown",
   "id": "74ceb74b",
   "metadata": {},
   "source": [
    "You can also manually adjust the visible x- or y-axis range using `set_xlim()` and `set_ylim()`:"
   ]
  },
  {
   "cell_type": "code",
   "execution_count": 29,
   "id": "428a0f00",
   "metadata": {},
   "outputs": [
    {
     "data": {
      "image/png": "[encoded data removed]",
      "text/plain": [
       "<Figure size 1500x750 with 1 Axes>"
      ]
     },
     "metadata": {},
     "output_type": "display_data"
    }
   ],
   "source": [
    "fig, ax = plt.subplots(figsize=(10, 5))\n",
    "ax.plot(x, y, marker='o', ls='none')  \n",
    "ax.set_xlabel('Wavenumber [cm$^{-1}$]')\n",
    "ax.set_ylabel('Absorbance [unitless]')\n",
    "ax.set_xlim(2800, 3200)\n",
    "ax.set_ylim(0, 1.0);"
   ]
  },
  {
   "cell_type": "markdown",
   "id": "4c980150",
   "metadata": {},
   "source": [
    "```{admonition} Exercise\n",
    ":class: tip\n",
    "\n",
    "Visualize a subset of the ethanol data:\n",
    "\n",
    "1. Create a new variable that stores only rows 65 to 230 of the dataset (you can slice the `X` array).\n",
    "2. Extract wavenumber and absorbance from this subset.\n",
    "3. Plot the new slice of data with appropriate axis labels.\n",
    "4. Adjust the axis limits to zoom in on the peak region.\n",
    "\n",
    "What changes do you notice in the shape or features of the spectrum?\n",
    "```\n",
    "\n",
    "## Developer Tools\n",
    "\n",
    "Course assignments will be hosted through **Vocareum**, which allows you to interact with code in a consistent online environment — no installation required. However, we strongly recommend that you also learn to work **locally**, so that you're prepared for independent work and research projects. The tools in this section will help you do that.\n",
    "\n",
    "---\n",
    "\n",
    "### Integrated Development Environments (IDE's)\n",
    "\n",
    "In this course, we use Jupyter Notebooks to display code and submit homework. While notebooks are convenient for sharing and grading, they aren’t always ideal for learning or large-scale programming.\n",
    "\n",
    "You may find it easier to use an IDE such as:\n",
    "\n",
    "- **Spyder** (similar to MATLAB)\n",
    "- **VS Code** (very flexible and widely used)\n",
    "- **PyCharm** or **Thonny** (other good options)\n",
    "\n",
    "You can copy code from a notebook into your IDE, test and debug it there, and then paste your results back into the notebook. Jupyter notebooks can also be exported as `.py` files (`File → Download as → .py`) if you want to move work into an IDE.\n",
    "\n",
    "---\n",
    "\n",
    "### Virtual environments (conda)\n",
    "\n",
    "To manage dependencies and avoid version conflicts, we recommend using **conda**. This lets you isolate packages for each project or course.\n",
    "\n",
    "The easiest way to set up the course environment is:\n",
    "\n",
    "```bash\n",
    "conda env create -f environment.yml\n",
    "conda activate da4che\n",
    "```\n",
    "\n",
    "This uses the `environment.yml` file provided with the course to install the required versions of Python and all packages.\n",
    "\n",
    "```{note}\n",
    "You are free to use other environment tools like `venv` or `pipenv`, but we can only provide support for `conda`.\n",
    "```\n",
    "\n",
    "---\n",
    "\n",
    "### Collaboration tools\n",
    "\n",
    "Many tools are available to help you collaborate on code, whether you're working live or asynchronously.\n",
    "\n",
    "#### Git and GitHub\n",
    "\n",
    "**Git** is a version control system, and **GitHub** is a hosting platform. You can track changes, revert mistakes, and share code with collaborators. Some common commands include:\n",
    "\n",
    "```bash\n",
    "git init\n",
    "git add file.py\n",
    "git commit -m \"explanation\"\n",
    "git push\n",
    "```\n",
    "\n",
    "GitHub is not required in this course, but you may want to use it for your final project or in your future research. A great place to start is the [GitHub Hello World tutorial](https://docs.github.com/en/get-started/quickstart/hello-world).\n",
    "\n",
    "#### Google Colab\n",
    "\n",
    "[Google Colab](https://colab.research.google.com/) lets you write and run Python code in the cloud, with no setup. It supports real-time collaboration and is especially useful when working on shared notebooks or quick experiments.\n",
    "\n",
    "You can upload any `.ipynb` notebook and run it using Google’s servers — including access to GPUs.\n",
    "\n",
    "#### Other collaborative coding tools\n",
    "\n",
    "If you're working in real time with a partner or team, consider these tools:\n",
    "\n",
    "- **VS Code Live Share**: collaborative editing in VS Code\n",
    "- **JupyterHub**: shared notebooks on a central server (common in courses or labs)\n",
    "- **Replit**: browser-based IDE with multi-user editing\n",
    "- **CodeTogether**: collaboration across multiple IDEs\n",
    "\n",
    "These tools support shared coding sessions, pair programming, and debugging help.\n",
    "\n",
    "---\n",
    "\n",
    "### Using LLMs for programming\n",
    "\n",
    "Language models like ChatGPT or GitHub Copilot can be helpful — but use them wisely.\n",
    "\n",
    "**Best practices**:\n",
    "- Ask focused questions. Include goals and sample code.\n",
    "- Work in small chunks rather than giving complex prompts.\n",
    "- Use them for debugging, syntax help, and suggestions — not as a substitute for understanding.\n",
    "- Never put any content generated by others into an LLM without permission.\n",
    "- Always verify the output. LLMs can generate incorrect or outdated code.\n",
    "- Always acknowledge that AI tools were used.\n",
    "\n",
    "You may use LLMs during this course, but you are responsible for the code you submit. You are required to acknowledge any AI tools that were used in generating a response. You will not be penalized for using AI tools, but you should not simply copy/paste from any AI tool. You should carefully review and edit any AI generated code for clarity. The [institute guidelines](https://oit.gatech.edu/ai/guidance) on AI are a good resource for broader use of AI.\n",
    "\n",
    "```{note}\n",
    "AI tools were heavily used in revising these lecture notes! The original Jupyter notebooks are [available for reference](https://github.com/medford-group/data_analytics_ChE). Revisions were done iteratively, and instructors have verified all content, but some typos or artifacts may remain. Please alert instructors if you see any issues in the new version.\n",
    "```\n",
    "\n",
    "```{admonition} Ethics of AI models\n",
    ":class: caution\n",
    "Like many issues in modern society, the use of AI is ethically complicated. Creation of these models involved many unethical practices, such as the use of [underpaid workers to process traumatic training data](https://time.com/6247678/openai-chatgpt-kenya-workers/) and likely [violations of intellectual property rights](https://hbr.org/2023/04/generative-ai-has-an-intellectual-property-problem), and the use of AI tools consumes [massive amounts of energy at scale](https://www.technologyreview.com/2025/05/20/1116327/ai-energy-usage-climate-footprint-big-tech/). However, these models exist now, and have the potential to improve society by advancing technology. The formal ethics and regulations on AI use are evolving, and to my knowledge there is no current consensus. My personal view is that the tools should be used judiciously on tasks that have the potential to improve society (e.g. education and technology development). Use for frivolous tasks should be minimized, and users should always be aware of the ethical gray areas involved in the creation and use of AI models. \n",
    "```\n",
    "\n",
    "```{admonition} Exercise\n",
    ":class: tip\n",
    "\n",
    "Try working in a different environment:\n",
    "\n",
    "1. Open one of your Jupyter notebooks from this course using **VS Code** or **Spyder**.\n",
    "2. Try exporting a `.ipynb` notebook as a `.py` file using the Jupyter interface (`File → Download as → Python (.py)`).\n",
    "3. Open the exported file in your local editor and run a few lines.\n",
    "4. (Optional) Create a conda environment using the provided `environment.yml` and try running your code there.\n",
    "\n",
    "What differences do you notice compared to working in Vocareum?\n",
    "```\n",
    "\n",
    "## Python Pitfalls and Advanced Features\n",
    "\n",
    "Python is relatively simple to learn, but there are a few common pitfalls that can cause confusing errors or subtle bugs. This section highlights some of the most important ones to watch out for.\n",
    "\n",
    "---\n",
    "\n",
    "### Tabs and spaces\n",
    "\n",
    "Python uses indentation to define scope — this means the number and type of spaces is significant. One common error comes from mixing **tabs** and **spaces**. Python will not allow inconsistent indentation."
   ]
  },
  {
   "cell_type": "code",
   "execution_count": 30,
   "id": "6150ffd5",
   "metadata": {},
   "outputs": [
    {
     "name": "stdout",
     "output_type": "stream",
     "text": [
      "Hello World\n",
      "...with space indent works.\n"
     ]
    }
   ],
   "source": [
    "def hello_world():\n",
    "    print(\"Hello World\")\n",
    "    print('...with space indent works.')\n",
    "#\tprint('…with tab indent doesn’t')  # <- copied from a different editor\n",
    "\n",
    "hello_world()"
   ]
  },
  {
   "cell_type": "markdown",
   "id": "8656694c",
   "metadata": {},
   "source": [
    "If you uncomment the line above, it will throw an error in many environments. Jupyter automatically converts tabs into spaces, but if you're editing in another environment, always choose **spaces only** and be consistent.\n",
    "\n",
    "---\n",
    "\n",
    "### NumPy array copying (views vs. copies)\n",
    "\n",
    "In NumPy, slicing an array returns a **view**, not a copy. If you modify the slice, the original array is changed too."
   ]
  },
  {
   "cell_type": "code",
   "execution_count": 31,
   "id": "9803ba58",
   "metadata": {},
   "outputs": [
    {
     "name": "stdout",
     "output_type": "stream",
     "text": [
      "[[10.  2.  3.]\n",
      " [ 4.  5.  6.]\n",
      " [ 7.  8.  9.]]\n"
     ]
    }
   ],
   "source": [
    "import numpy as np\n",
    "\n",
    "A = np.array([[1., 2., 3.], [4., 5., 6.], [7., 8., 9.]])\n",
    "b = A[0, :]   # this is a view\n",
    "b[0] = 10     # modifies A as well\n",
    "print(A)"
   ]
  },
  {
   "cell_type": "markdown",
   "id": "67e8cc1b",
   "metadata": {},
   "source": [
    "To avoid this, explicitly make a copy:"
   ]
  },
  {
   "cell_type": "code",
   "execution_count": 32,
   "id": "d38dbecf",
   "metadata": {},
   "outputs": [
    {
     "name": "stdout",
     "output_type": "stream",
     "text": [
      "[[10.  2.  3.]\n",
      " [ 4.  5.  6.]\n",
      " [ 7.  8.  9.]]\n"
     ]
    }
   ],
   "source": [
    "c = A[1, :].copy()\n",
    "c[1] = 15\n",
    "print(A)"
   ]
  },
  {
   "cell_type": "markdown",
   "id": "89584687",
   "metadata": {},
   "source": [
    "---\n",
    "\n",
    "### Integer type casting\n",
    "\n",
    "By default, NumPy tries to preserve data types. This can lead to surprising truncation if you assign a float to an integer array:"
   ]
  },
  {
   "cell_type": "code",
   "execution_count": 33,
   "id": "2d79a1f8",
   "metadata": {},
   "outputs": [
    {
     "name": "stdout",
     "output_type": "stream",
     "text": [
      "[0 2]\n"
     ]
    }
   ],
   "source": [
    "A = np.array([1, 2])  # integer array\n",
    "A[0] = 0.15           # silently truncated\n",
    "print(A)"
   ]
  },
  {
   "cell_type": "markdown",
   "id": "2efcf983",
   "metadata": {},
   "source": [
    "To prevent this, define your array with floats:"
   ]
  },
  {
   "cell_type": "code",
   "execution_count": 34,
   "id": "25394205",
   "metadata": {},
   "outputs": [
    {
     "name": "stdout",
     "output_type": "stream",
     "text": [
      "[0.15 2.  ]\n"
     ]
    }
   ],
   "source": [
    "B = np.array([1., 2.])\n",
    "B[0] = 0.15\n",
    "print(B)"
   ]
  },
  {
   "cell_type": "markdown",
   "id": "3f478e52",
   "metadata": {},
   "source": [
    "Or use `dtype='float64'` for explicit control.\n",
    "\n",
    "---\n",
    "\n",
    "### Lambda functions vs. variable names\n",
    "\n",
    "Python uses the `lambda` keyword to define anonymous functions:"
   ]
  },
  {
   "cell_type": "code",
   "execution_count": 35,
   "id": "b54e302a",
   "metadata": {},
   "outputs": [
    {
     "data": {
      "text/plain": [
       "np.float64(0.42073549240394825)"
      ]
     },
     "execution_count": 35,
     "metadata": {},
     "output_type": "execute_result"
    }
   ],
   "source": [
    "sincos = lambda x: np.sin(x) * np.cos(x)\n",
    "sincos(0.5)"
   ]
  },
  {
   "cell_type": "markdown",
   "id": "136eb670",
   "metadata": {},
   "source": [
    "This means you cannot use `lambda` as a variable name:"
   ]
  },
  {
   "cell_type": "code",
   "execution_count": 36,
   "id": "0c3dbefa",
   "metadata": {},
   "outputs": [
    {
     "data": {
      "text/plain": [
       "np.float64(0.09933466539753062)"
      ]
     },
     "execution_count": 36,
     "metadata": {},
     "output_type": "execute_result"
    }
   ],
   "source": [
    "# lambda = 0.1  # SyntaxError\n",
    "lamda = 0.1\n",
    "sincos(lamda)"
   ]
  },
  {
   "cell_type": "markdown",
   "id": "30386c24",
   "metadata": {},
   "source": [
    "If you want to use the Greek letter λ as a variable, just spell it differently (e.g., `lamda`).\n",
    "\n",
    "---\n",
    "### Dimensions of vectors and matrices\n",
    "\n",
    "Unlike Matlab, Python supports true 1-D vectors that are neither column nor row vectors. It also of course supports explicit column and row vectors. A common issue, especially when working with `scikit-learn` (a common package that you will see a lot of in this course), is that the models will expect inputs to be explicit 2-D matrixes with a `shape` attribute of `(n_samples, n_features)`. Failure to do this will throw errors that can be very confusing, but there is an easy fix: you can use the `.reshape(-1, 1)` method to create a 1-D vector into a 2-D feature matrix. If you want to convert back, you can use the `.ravel()` method to \"unravel\" any matrix into a 1-D vector."
   ]
  },
  {
   "cell_type": "code",
   "execution_count": 37,
   "id": "6373cec4",
   "metadata": {},
   "outputs": [
    {
     "name": "stdout",
     "output_type": "stream",
     "text": [
      "(5, 1) (5,)\n"
     ]
    }
   ],
   "source": [
    "import numpy as np\n",
    "from sklearn.linear_model import LinearRegression\n",
    "\n",
    "x = np.linspace(0, 10, 5)    # (5,)\n",
    "y = 2*x + 1                  # (5,)\n",
    "\n",
    "X = x.reshape(-1, 1)         # (5, 1)\n",
    "y1d = y.ravel()              # (5,)\n",
    "print(X.shape, y1d.shape)"
   ]
  },
  {
   "cell_type": "markdown",
   "id": "eaccb47e",
   "metadata": {},
   "source": [
    "---\n",
    "\n",
    "### Iterating with `zip`\n",
    "\n",
    "It is common that you will want to iterate through several lists at the same time, keeping everything synced. There are lots of ways to do this, but a common one is to use the `zip` function, which can be a little confusing at first. The `zip` function will \"zip\" two lists together, and you can also \"unzip\" by using the `zip(*pairs` syntax. It's a slightly advanced feature, and you don't need to use it in your code, but you will see it a lot in examples throughout the lecture notes."
   ]
  },
  {
   "cell_type": "code",
   "execution_count": 38,
   "id": "b116ced9",
   "metadata": {},
   "outputs": [
    {
     "name": "stdout",
     "output_type": "stream",
     "text": [
      "[(1, 2), (2, 4), (3, 6)]\n",
      "1 2\n",
      "2 4\n",
      "3 6\n",
      "(1, 2, 3) (2, 4, 6)\n"
     ]
    }
   ],
   "source": [
    "xs = [1, 2, 3]\n",
    "ys = [2, 4, 6]\n",
    "\n",
    "zipxy = list(zip(xs, ys))\n",
    "print(zipxy)\n",
    "\n",
    "#this is the most common usage\n",
    "for x, y in zip(xs, ys):\n",
    "    print(x, y)\n",
    "\n",
    "# Unzip:\n",
    "x_back, y_back = zip(*zipxy)\n",
    "print(x_back, y_back)"
   ]
  },
  {
   "cell_type": "markdown",
   "id": "0cd32e2e",
   "metadata": {},
   "source": [
    "### Floating point comparison\n",
    "\n",
    "Due to how floating-point numbers are represented, equality tests may fail even when numbers \"look\" the same:"
   ]
  },
  {
   "cell_type": "code",
   "execution_count": 39,
   "id": "a188c2db",
   "metadata": {},
   "outputs": [
    {
     "name": "stdout",
     "output_type": "stream",
     "text": [
      "False\n",
      "True\n"
     ]
    }
   ],
   "source": [
    "a = 0.1 + 0.2\n",
    "b = 0.3\n",
    "print(a == b)           # False\n",
    "print(np.isclose(a, b)) # True"
   ]
  },
  {
   "cell_type": "markdown",
   "id": "011f7afd",
   "metadata": {},
   "source": [
    "Use `np.isclose()` for comparison — especially in grading scripts or scientific code.\n",
    "\n",
    "---\n",
    "\n",
    "### Try/except blocks\n",
    "\n",
    "To catch and handle errors in your code gracefully, use `try/except`:"
   ]
  },
  {
   "cell_type": "code",
   "execution_count": 40,
   "id": "737baf2d",
   "metadata": {},
   "outputs": [
    {
     "name": "stdout",
     "output_type": "stream",
     "text": [
      "Caught an error: division by zero\n"
     ]
    }
   ],
   "source": [
    "try:\n",
    "    x = 1 / 0\n",
    "except ZeroDivisionError as e:\n",
    "    print(\"Caught an error:\", e)"
   ]
  },
  {
   "cell_type": "markdown",
   "id": "eb922ec9",
   "metadata": {},
   "source": [
    "This is useful when reading files, calling risky functions, or interacting with user input.\n",
    "\n",
    "---\n",
    "\n",
    "### Assert and `np.isclose`\n",
    "\n",
    "You can use `assert` to enforce expectations in your code or for autograding:"
   ]
  },
  {
   "cell_type": "code",
   "execution_count": 41,
   "id": "0cf48106",
   "metadata": {},
   "outputs": [],
   "source": [
    "a = 0.1 + 0.2\n",
    "b = 0.3\n",
    "\n",
    "assert np.isclose(a, b), \"Floating point comparison failed\""
   ]
  },
  {
   "cell_type": "markdown",
   "id": "b7b5348f",
   "metadata": {},
   "source": [
    "This is cleaner than writing long `if` statements and is common in unit tests and grading scripts.\n",
    "\n",
    "---\n",
    "\n",
    "~~~{admonition} Exercise\n",
    ":class: tip\n",
    "\n",
    "The function below is meant to return a new array that contains just the first row of matrix `A`, which can be modified without affecting the original.\n",
    "\n",
    "```python\n",
    "def first_row(A):\n",
    "    return A[0, :]\n",
    "```\n",
    "\n",
    "Try the following:\n",
    "\n",
    "```python\n",
    "A = np.array([[1, 2], [3, 4]])\n",
    "B = first_row(A)\n",
    "B[0] = 99\n",
    "print(A)\n",
    "```\n",
    "\n",
    "What happens? Modify the function so that `A` is not affected when `B` is changed.\n",
    "~~~\n",
    "\n",
    "\n",
    "## Recommended Reading\n",
    "\n",
    "- [Official Python Tutorial](https://docs.python.org/3/tutorial/)\n",
    "- [NumPy User Guide](https://numpy.org/doc/stable/user/)\n",
    "- [Pandas Getting Started Guide](https://pandas.pydata.org/docs/getting_started/index.html)\n",
    "- [Matplotlib Gallery](https://matplotlib.org/stable/gallery/index.html)\n",
    "- [GitHub Hello World Guide](https://docs.github.com/en/get-started/quickstart/hello-world)"
   ]
  }
 ],
 "metadata": {
  "jupytext": {
   "text_representation": {
    "extension": ".md",
    "format_name": "myst"
   }
  },
  "kernelspec": {
   "display_name": "Python 3",
   "language": "python",
   "name": "python3"
  },
  "language_info": {
   "codemirror_mode": {
    "name": "ipython",
    "version": 3
   },
   "file_extension": ".py",
   "mimetype": "text/x-python",
   "name": "python",
   "nbconvert_exporter": "python",
   "pygments_lexer": "ipython3",
   "version": "3.10.18"
  },
  "source_map": [
   10,
   103,
   107,
   111,
   118,
   122,
   127,
   131,
   135,
   139,
   144,
   147,
   155,
   159,
   170,
   177,
   205,
   208,
   212,
   217,
   221,
   224,
   232,
   243,
   253,
   263,
   267,
   276,
   313,
   318,
   331,
   333,
   337,
   340,
   344,
   347,
   355,
   363,
   377,
   379,
   383,
   385,
   422,
   432,
   435,
   439,
   441,
   451,
   457,
   472,
   477,
   483,
   488,
   493,
   497,
   504,
   640,
   647,
   657,
   664,
   668,
   672,
   680,
   684,
   688,
   692,
   702,
   705,
   709,
   713,
   723,
   733,
   741,
   756,
   762,
   767,
   777,
   782,
   792,
   797
  ]
 },
 "nbformat": 4,
 "nbformat_minor": 5
}